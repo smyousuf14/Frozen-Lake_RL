{
  "nbformat": 4,
  "nbformat_minor": 0,
  "metadata": {
    "colab": {
      "name": "FrozenLakeRL.ipynb",
      "provenance": [],
      "collapsed_sections": [],
      "authorship_tag": "ABX9TyOGhjvVB7JMD4wNEJQMkpUh",
      "include_colab_link": true
    },
    "kernelspec": {
      "name": "python3",
      "display_name": "Python 3"
    }
  },
  "cells": [
    {
      "cell_type": "markdown",
      "metadata": {
        "id": "view-in-github",
        "colab_type": "text"
      },
      "source": [
        "<a href=\"https://colab.research.google.com/github/smyousuf14/Frozen-Lake_RL/blob/master/FrozenLakeRL.ipynb\" target=\"_parent\"><img src=\"https://colab.research.google.com/assets/colab-badge.svg\" alt=\"Open In Colab\"/></a>"
      ]
    },
    {
      "cell_type": "code",
      "metadata": {
        "id": "LfB1hyS9lCRP",
        "colab_type": "code",
        "colab": {}
      },
      "source": [
        "import numpy as np\n",
        "import gym\n",
        "import random\n",
        "import time\n",
        "\n",
        "from IPython.display import clear_output"
      ],
      "execution_count": 0,
      "outputs": []
    },
    {
      "cell_type": "code",
      "metadata": {
        "id": "oTwZAjhhldhV",
        "colab_type": "code",
        "colab": {}
      },
      "source": [
        "env = gym.make(\"FrozenLake-v0\")"
      ],
      "execution_count": 0,
      "outputs": []
    },
    {
      "cell_type": "code",
      "metadata": {
        "id": "eWo9mB_qlloE",
        "colab_type": "code",
        "colab": {}
      },
      "source": [
        "action_space_size = env.action_space.n\n",
        "state_space_size = env.observation_space.n"
      ],
      "execution_count": 0,
      "outputs": []
    },
    {
      "cell_type": "code",
      "metadata": {
        "id": "5CD-8qj1ly_Z",
        "colab_type": "code",
        "colab": {}
      },
      "source": [
        "# Construct the Q-Table\n",
        "q_table = np.zeros((state_space_size, action_space_size))\n"
      ],
      "execution_count": 0,
      "outputs": []
    },
    {
      "cell_type": "code",
      "metadata": {
        "id": "cYjwaXe-2-Ki",
        "colab_type": "code",
        "colab": {}
      },
      "source": [
        "def generate_episode(policy, render=False):\n",
        "  \n",
        "  episode = [] \n",
        "  s0 = env.reset()\n",
        "  if render:\n",
        "    env.render()\n",
        "  for i in range(50):\n",
        "    action = policy[s0]\n",
        "    next_state, reward, done, debug = env.step(action) \n",
        "    episode.append([s0, action, reward, next_state])\n",
        "\n",
        "    s0 = next_state \n",
        "\n",
        "    if render:\n",
        "      clear_output(wait=True)\n",
        "      env.render()\n",
        "      time.sleep(0.3)\n",
        "    if done:\n",
        "      break\n",
        "\n",
        "  return np.array(episode) "
      ],
      "execution_count": 0,
      "outputs": []
    },
    {
      "cell_type": "code",
      "metadata": {
        "id": "_BFPTPyUuaVq",
        "colab_type": "code",
        "colab": {}
      },
      "source": [
        "def q_learning_policy(policy, num_state, num_actions, env, q_val_func, epsilon):\n",
        "\n",
        "  max_steps = 50\n",
        "  lr = 0.01\n",
        "  num_episode = 1000\n",
        "\n",
        "\n",
        "  reward_all_episodes = []\n",
        "\n",
        "  for episode in range(num_episode):\n",
        "\n",
        "    #Initialize the new episode parameters\n",
        "    reward = 0\n",
        "\n",
        "    st = env.reset()\n",
        "\n",
        "    for step in range(max_steps):\n",
        "      exploration_rate_threshold = random.uniform(0,1)\n",
        "\n",
        "      if exploration_rate_threshold > epsilon:\n",
        "\n",
        "        # chose action via exploitation\n",
        "        at = np.argmax(q_val_func[st, :])   # we will choose the action with the highest Q-value relative to its current state from the Q-table \n",
        "\n",
        "      else:\n",
        "        at = env.action_space.sample()\n",
        "\n",
        "      st1, rt, done, debug = env.step(at)\n",
        "      old_value =  q_val_func[st,at]\n",
        "      new_value = (1-lr)*old_value + lr*(rt + 0.75*np.max(q_val_func[st1,:]))\n",
        "      q_val_func[st,at] = new_value\n",
        "      st=st1\n",
        "      reward+=rt\n",
        "\n",
        "      if done:\n",
        "        break\n",
        "      \n",
        "      reward_all_episodes.append(reward)\n",
        "  \n",
        "\n",
        "  return q_val_func\n",
        "  "
      ],
      "execution_count": 0,
      "outputs": []
    },
    {
      "cell_type": "code",
      "metadata": {
        "id": "gTVl5hoDvQNM",
        "colab_type": "code",
        "colab": {}
      },
      "source": [
        "def policy_improvement(policy, q_val_func, epsilon, env):\n",
        "  improved_policy = np.copy(policy)\n",
        "\n",
        "\n",
        "  for state in range(state_space_size):\n",
        "    improved_policy[state]=np.argmax(q_val_func[state, :])\n",
        "    \n",
        "  return improved_policy\n"
      ],
      "execution_count": 0,
      "outputs": []
    },
    {
      "cell_type": "code",
      "metadata": {
        "id": "3KIsMPTdIrAa",
        "colab_type": "code",
        "colab": {}
      },
      "source": [
        "def q_learning(num_actions, num_states, env):\n",
        "  num_iterations = 100\n",
        "  policy = np.random.randint(num_actions, size=num_states)\n",
        "  epsilon =1\n",
        "  epsilon_decay = 0.001\n",
        "  q_val_func = np.zeros((num_states,num_actions))\n",
        "  for i in range(num_iterations):\n",
        "    q_val_func = q_learning_policy(policy, num_states, num_actions, env,q_val_func, epsilon)\n",
        "\n",
        "    policy = policy_improvement(policy,q_val_func, epsilon, env) \n",
        "    epsilon = epsilon - epsilon_decay\n",
        "  \n",
        "  return policy"
      ],
      "execution_count": 0,
      "outputs": []
    },
    {
      "cell_type": "code",
      "metadata": {
        "id": "_QPOzXeTVszi",
        "colab_type": "code",
        "outputId": "2199b021-b87a-4e9d-880f-098dffac7640",
        "colab": {
          "base_uri": "https://localhost:8080/",
          "height": 109
        }
      },
      "source": [
        "optimal_policy = q_learning(action_space_size, state_space_size,env)\n",
        "episode = generate_episode(optimal_policy, True)\n"
      ],
      "execution_count": 0,
      "outputs": [
        {
          "output_type": "stream",
          "text": [
            "  (Down)\n",
            "SFFF\n",
            "FHFH\n",
            "FF\u001b[41mF\u001b[0mH\n",
            "HFFG\n"
          ],
          "name": "stdout"
        }
      ]
    },
    {
      "cell_type": "code",
      "metadata": {
        "id": "TJlSU1KCalqv",
        "colab_type": "code",
        "outputId": "72737865-8568-43bc-d217-0a56d56d3065",
        "colab": {
          "base_uri": "https://localhost:8080/",
          "height": 109
        }
      },
      "source": [
        "episode = generate_episode(optimal_policy, True)"
      ],
      "execution_count": 0,
      "outputs": [
        {
          "output_type": "stream",
          "text": [
            "  (Right)\n",
            "SFFF\n",
            "FHFH\n",
            "FFFH\n",
            "HFF\u001b[41mG\u001b[0m\n"
          ],
          "name": "stdout"
        }
      ]
    },
    {
      "cell_type": "code",
      "metadata": {
        "id": "fG2LS_wcdw1p",
        "colab_type": "code",
        "colab": {}
      },
      "source": [
        ""
      ],
      "execution_count": 0,
      "outputs": []
    }
  ]
}